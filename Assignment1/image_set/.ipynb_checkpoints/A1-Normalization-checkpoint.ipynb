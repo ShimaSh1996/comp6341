{
 "cells": [
  {
   "cell_type": "markdown",
   "metadata": {},
   "source": [
    "# Computer Vision "
   ]
  },
  {
   "cell_type": "markdown",
   "metadata": {},
   "source": [
    "### Assignment 1"
   ]
  },
  {
   "cell_type": "markdown",
   "metadata": {},
   "source": [
    "Please run the cell for each Bayer image and its corresponding one at a time. This notebook should be in the same folder as test images. Also the results will be saved in the same folder. "
   ]
  },
  {
   "cell_type": "code",
   "execution_count": 97,
   "metadata": {},
   "outputs": [],
   "source": [
    "%matplotlib inline"
   ]
  },
  {
   "cell_type": "code",
   "execution_count": 98,
   "metadata": {},
   "outputs": [],
   "source": [
    "import cv2\n",
    "import numpy as np\n",
    "from matplotlib import pyplot as plt"
   ]
  },
  {
   "cell_type": "markdown",
   "metadata": {},
   "source": [
    "First Image"
   ]
  },
  {
   "cell_type": "code",
   "execution_count": 99,
   "metadata": {},
   "outputs": [],
   "source": [
    "#1\n",
    "path = 'pencils_mosaic.bmp'\n",
    "img = cv2.imread(path, cv2.IMREAD_GRAYSCALE)/255"
   ]
  },
  {
   "cell_type": "code",
   "execution_count": 100,
   "metadata": {},
   "outputs": [],
   "source": [
    "#1\n",
    "path = 'pencils.jpg'\n",
    "real_img = cv2.imread(path).astype(np.float32)/255"
   ]
  },
  {
   "cell_type": "markdown",
   "metadata": {},
   "source": [
    "Second Image"
   ]
  },
  {
   "cell_type": "code",
   "execution_count": 101,
   "metadata": {},
   "outputs": [],
   "source": [
    "#2\n",
    "path = 'crayons_mosaic.bmp'\n",
    "img = cv2.imread(path, cv2.IMREAD_GRAYSCALE)/255"
   ]
  },
  {
   "cell_type": "code",
   "execution_count": 102,
   "metadata": {},
   "outputs": [],
   "source": [
    "#2\n",
    "path = 'crayons.jpg'\n",
    "real_img = cv2.imread(path).astype(np.float32)/255"
   ]
  },
  {
   "cell_type": "markdown",
   "metadata": {},
   "source": [
    "Third Image"
   ]
  },
  {
   "cell_type": "code",
   "execution_count": 103,
   "metadata": {},
   "outputs": [],
   "source": [
    "#3\n",
    "path = 'oldwell_mosaic.bmp'\n",
    "img = cv2.imread(path, cv2.IMREAD_GRAYSCALE)/255"
   ]
  },
  {
   "cell_type": "code",
   "execution_count": 104,
   "metadata": {},
   "outputs": [],
   "source": [
    "#3\n",
    "path = 'oldwell.jpg'\n",
    "real_img = cv2.imread(path).astype(np.float32)/255"
   ]
  },
  {
   "cell_type": "markdown",
   "metadata": {},
   "source": [
    "### Part 1)"
   ]
  },
  {
   "cell_type": "code",
   "execution_count": 105,
   "metadata": {},
   "outputs": [],
   "source": [
    "red = np.zeros(img.shape)\n",
    "blue = np.zeros(img.shape)\n",
    "green = np.zeros(img.shape)"
   ]
  },
  {
   "cell_type": "markdown",
   "metadata": {},
   "source": [
    "Seperate color channels"
   ]
  },
  {
   "cell_type": "code",
   "execution_count": 106,
   "metadata": {
    "scrolled": true
   },
   "outputs": [],
   "source": [
    "for i in range (img.shape[1]):\n",
    "    for j in range (img.shape[0]):\n",
    "        if (i+j)%2 == 1:\n",
    "            red[j,i] = img[j,i]\n",
    "        elif j%2 == 0:\n",
    "            blue[j,i] = img[j,i]\n",
    "        else:\n",
    "            green[j,i] = img[j,i]"
   ]
  },
  {
   "cell_type": "markdown",
   "metadata": {},
   "source": [
    "Kernel Definition"
   ]
  },
  {
   "cell_type": "code",
   "execution_count": 107,
   "metadata": {},
   "outputs": [],
   "source": [
    "kernel_red = np.array([[0, 0.25, 0], [0.25, 1, 0.25], [0, 0.25, 0]])\n",
    "kernel_bag = np.array([[0.25, 0.5, 0.25], [0.5, 1, 0.5], [0.25, 0.5, 0.25]])"
   ]
  },
  {
   "cell_type": "code",
   "execution_count": 108,
   "metadata": {},
   "outputs": [],
   "source": [
    "new_blue = cv2.filter2D(blue, -1, kernel_bag).astype(np.float32)\n",
    "new_red = cv2.filter2D(red, -1, kernel_red).astype(np.float32)\n",
    "new_green = cv2.filter2D(green, -1, kernel_bag).astype(np.float32)"
   ]
  },
  {
   "cell_type": "markdown",
   "metadata": {},
   "source": [
    "Image Reconstruction"
   ]
  },
  {
   "cell_type": "code",
   "execution_count": 109,
   "metadata": {},
   "outputs": [],
   "source": [
    "new_img = cv2.merge(((new_blue), (new_green), (new_red)))"
   ]
  },
  {
   "cell_type": "markdown",
   "metadata": {},
   "source": [
    "Calculating the difference"
   ]
  },
  {
   "cell_type": "code",
   "execution_count": 110,
   "metadata": {},
   "outputs": [],
   "source": [
    "channelwise_dif = np.sum((real_img - new_img)**2, axis = -1)\n",
    "# channelwise_dif_sqrt = np.sqrt(np.square(real_img[:,:,2] - new_red) +\n",
    "#                           np.square(real_img[:,:,1] - new_green) + \n",
    "#                           np.square(real_img[:,:,0] - new_blue) )\n",
    "# channelwise_dif_square = np.sum(np.square((real_img - new_img)**2), axis = -1)\n",
    "# cv2.imshow(\"test\", channelwise_dif_sqrt)\n",
    "# cv2.waitKey(100)"
   ]
  },
  {
   "cell_type": "markdown",
   "metadata": {},
   "source": [
    "Saving all together"
   ]
  },
  {
   "cell_type": "code",
   "execution_count": 111,
   "metadata": {},
   "outputs": [
    {
     "name": "stdout",
     "output_type": "stream",
     "text": [
      "(768, 525)\n"
     ]
    }
   ],
   "source": [
    "dif = np.zeros(real_img.shape)\n",
    "print(channelwise_dif.shape)\n",
    "dif[:,:,0] = channelwise_dif*255\n",
    "\n",
    "final_res_dif = np.concatenate([real_img*255, new_img*255, dif], axis = 1) "
   ]
  },
  {
   "cell_type": "markdown",
   "metadata": {},
   "source": [
    "Save the results"
   ]
  },
  {
   "cell_type": "code",
   "execution_count": 112,
   "metadata": {},
   "outputs": [
    {
     "data": {
      "text/plain": [
       "True"
      ]
     },
     "execution_count": 112,
     "metadata": {},
     "output_type": "execute_result"
    }
   ],
   "source": [
    "cv2.imwrite('new_img.png', new_img*255)\n",
    "cv2.imwrite('dif_img.png', final_res_dif)\n",
    "cv2.imwrite('channlewise_dif.png', channelwise_dif*255)"
   ]
  },
  {
   "cell_type": "code",
   "execution_count": 66,
   "metadata": {},
   "outputs": [],
   "source": [
    "#cv2.imshow(\"dif_img\", channelwise_dif*255)\n",
    "#cv2.imshow(\"new_img\", new_img*255)\n",
    "#cv2.imshow(\"final_res_dif\", final_res_dif)\n",
    "#cv2.waitKey(100)"
   ]
  },
  {
   "cell_type": "markdown",
   "metadata": {},
   "source": [
    "### Part 2)"
   ]
  },
  {
   "cell_type": "code",
   "execution_count": 67,
   "metadata": {},
   "outputs": [],
   "source": [
    "green_red = new_green - new_red\n",
    "blue_red = new_blue - new_red\n",
    "\n",
    "median_green = cv2.medianBlur(green_red, 3)\n",
    "median_blue = cv2.medianBlur(blue_red, 3)\n",
    "\n",
    "second_green = (median_green + new_red)\n",
    "second_blue = (median_blue + new_red)"
   ]
  },
  {
   "cell_type": "code",
   "execution_count": 68,
   "metadata": {},
   "outputs": [],
   "source": [
    "second_img = cv2.merge(((second_blue), (second_green), (new_red)))"
   ]
  },
  {
   "cell_type": "code",
   "execution_count": 69,
   "metadata": {},
   "outputs": [],
   "source": [
    "channelwise_dif_2 = np.sum((real_img - second_img)**2, axis = -1)\n",
    "\n",
    "# Uncomment the following lines of code to see the result\n",
    "# channelwise_dif_2 = np.sqrt(np.square(real_img[:,:,2] - second_img[:,:,2]) +\n",
    "#                           np.square(real_img[:,:,0] - second_img[:,:,0]) + \n",
    "#                           np.square(real_img[:,:,1] - second_img[:,:,1])).astype(np.uint8)\n",
    "\n",
    "# cv2.imshow(\"channelwise_dif_2\", channelwise_dif_2)\n",
    "# cv2.waitKey(100)\n",
    "# cv2.imshow(\"second_dif\", second_dif)\n",
    "# cv2.waitKey(100)"
   ]
  },
  {
   "cell_type": "code",
   "execution_count": 70,
   "metadata": {},
   "outputs": [
    {
     "name": "stdout",
     "output_type": "stream",
     "text": [
      "(768, 525)\n"
     ]
    }
   ],
   "source": [
    "dif2 = np.zeros(real_img.shape)\n",
    "print(channelwise_dif.shape)\n",
    "dif2[:,:,0] = channelwise_dif*255\n",
    "\n",
    "second_final_res_dif = np.concatenate([real_img*255, second_img*255, dif2],axis = 1) "
   ]
  },
  {
   "cell_type": "code",
   "execution_count": 71,
   "metadata": {},
   "outputs": [
    {
     "data": {
      "text/plain": [
       "True"
      ]
     },
     "execution_count": 71,
     "metadata": {},
     "output_type": "execute_result"
    }
   ],
   "source": [
    "cv2.imwrite('second_img.png', second_img*255)\n",
    "cv2.imwrite('channelwise_dif_2.png', channelwise_dif_2*255)\n",
    "cv2.imwrite('second_final_res_dif.png', second_final_res_dif)"
   ]
  },
  {
   "cell_type": "markdown",
   "metadata": {},
   "source": [
    "## Some Experiment"
   ]
  },
  {
   "cell_type": "code",
   "execution_count": 72,
   "metadata": {},
   "outputs": [],
   "source": [
    "bayer_img = np.zeros(img.shape)"
   ]
  },
  {
   "cell_type": "code",
   "execution_count": 73,
   "metadata": {},
   "outputs": [],
   "source": [
    "for i in range (real_img.shape[1]):\n",
    "    for j in range (real_img.shape[0]):\n",
    "        if (i+j)%2 == 1:\n",
    "            bayer_img[j,i] = real_img[j,i,1]\n",
    "            #print(new_bayer[j,i])\n",
    "        elif j%2 == 0:\n",
    "            bayer_img[j,i] = real_img[j,i,0]\n",
    "        else:\n",
    "            bayer_img[j,i] = real_img[j,i,2]"
   ]
  },
  {
   "cell_type": "code",
   "execution_count": 74,
   "metadata": {},
   "outputs": [],
   "source": [
    "#bayer_img"
   ]
  },
  {
   "cell_type": "code",
   "execution_count": 75,
   "metadata": {},
   "outputs": [],
   "source": [
    "red_2 = np.zeros(bayer_img.shape)\n",
    "blue_2 = np.zeros(bayer_img.shape)\n",
    "green_2 = np.zeros(bayer_img.shape)"
   ]
  },
  {
   "cell_type": "code",
   "execution_count": 76,
   "metadata": {},
   "outputs": [],
   "source": [
    "for i in range (bayer_img.shape[1]):\n",
    "    for j in range (bayer_img.shape[0]):\n",
    "        if (i+j)%2 == 1:\n",
    "            green_2[j,i] = bayer_img[j,i]\n",
    "        elif j%2 == 0:\n",
    "            blue_2[j,i] = bayer_img[j,i]\n",
    "        else:\n",
    "            red_2[j,i] = bayer_img[j,i]"
   ]
  },
  {
   "cell_type": "code",
   "execution_count": 77,
   "metadata": {},
   "outputs": [],
   "source": [
    "kernel_green = np.array([[0, 0.25, 0], [0.25, 1, 0.25], [0, 0.25, 0]])\n",
    "kernel_bar = np.array([[0.25, 0.5, 0.25], [0.5, 1, 0.5], [0.25, 0.5, 0.25]])"
   ]
  },
  {
   "cell_type": "code",
   "execution_count": 78,
   "metadata": {},
   "outputs": [],
   "source": [
    "new_blue_2 = cv2.filter2D(blue_2, -1, kernel_bar)\n",
    "new_red_2 = cv2.filter2D(red_2, -1, kernel_bar)\n",
    "new_green_2 = cv2.filter2D(green_2, -1, kernel_green)"
   ]
  },
  {
   "cell_type": "code",
   "execution_count": 79,
   "metadata": {},
   "outputs": [],
   "source": [
    "new_img_2 = cv2.merge(((new_blue_2), (new_green_2), (new_red_2)))\n",
    "#real_img = real_img.astype(np.float64)"
   ]
  },
  {
   "cell_type": "code",
   "execution_count": 80,
   "metadata": {},
   "outputs": [],
   "source": [
    "channelwise_dif_3 = np.sum((real_img - new_img_2)**2, axis = -1)"
   ]
  },
  {
   "cell_type": "code",
   "execution_count": 81,
   "metadata": {},
   "outputs": [],
   "source": [
    "dif3 = np.zeros(real_img.shape)\n",
    "dif3[:,:,0] = channelwise_dif_3*255\n",
    "\n",
    "second_final_res_dif = np.concatenate([real_img*255, new_img_2*255, dif3],axis = 1) \n",
    "\n",
    "final_res_dif3 = np.concatenate([real_img*255, new_img_2*255, dif3],axis = 1) "
   ]
  },
  {
   "cell_type": "code",
   "execution_count": 82,
   "metadata": {},
   "outputs": [
    {
     "data": {
      "text/plain": [
       "True"
      ]
     },
     "execution_count": 82,
     "metadata": {},
     "output_type": "execute_result"
    }
   ],
   "source": [
    "cv2.imwrite('new_img3.png', new_img_2*255)\n",
    "cv2.imwrite('channelwise_dif_3.png', channelwise_dif_3*255)\n",
    "cv2.imwrite('final_res_dif3.png', final_res_dif3)"
   ]
  },
  {
   "cell_type": "code",
   "execution_count": null,
   "metadata": {},
   "outputs": [],
   "source": []
  },
  {
   "cell_type": "code",
   "execution_count": null,
   "metadata": {},
   "outputs": [],
   "source": []
  },
  {
   "cell_type": "code",
   "execution_count": null,
   "metadata": {},
   "outputs": [],
   "source": []
  }
 ],
 "metadata": {
  "kernelspec": {
   "display_name": "Python 3",
   "language": "python",
   "name": "python3"
  },
  "language_info": {
   "codemirror_mode": {
    "name": "ipython",
    "version": 3
   },
   "file_extension": ".py",
   "mimetype": "text/x-python",
   "name": "python",
   "nbconvert_exporter": "python",
   "pygments_lexer": "ipython3",
   "version": "3.7.3"
  }
 },
 "nbformat": 4,
 "nbformat_minor": 2
}
